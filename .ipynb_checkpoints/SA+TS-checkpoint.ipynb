{
 "cells": [
  {
   "cell_type": "code",
   "execution_count": 148,
   "metadata": {},
   "outputs": [],
   "source": [
    "from __future__ import absolute_import\n",
    "from __future__ import division\n",
    "from __future__ import print_function\n",
    "\n",
    "import multiprocessing as mp\n",
    "import math\n",
    "import random\n",
    "import sys\n",
    "import time\n",
    "import requests\n",
    "import json\n",
    "import numpy\n",
    "import importlib\n",
    "import Clases\n",
    "import Metaheuristico\n",
    "from datetime import datetime,date,time, timedelta"
   ]
  },
  {
   "cell_type": "code",
   "execution_count": 149,
   "metadata": {},
   "outputs": [],
   "source": [
    "#r2 = requests.get(url='https://aviation-edge.com/v2/public/timetable?key=a24d93-2501aa&iataCode=LIM&type=arrival')\n",
    "#http://aviation-edge.com/api/public/timetable?key=a24d93-2501aa&iataCode=LIM&type=arrival"
   ]
  },
  {
   "cell_type": "code",
   "execution_count": 151,
   "metadata": {},
   "outputs": [
    {
     "name": "stdout",
     "output_type": "stream",
     "text": [
      "[{'type': 'arrival', 'status': 'scheduled', 'departure': {'iataCode': 'PIU', 'icaoCode': 'SPUR', 'scheduledTime': '2019-05-08T09:25:00.000'}, 'arrival': {'iataCode': 'LIM', 'icaoCode': 'SPJC', 'scheduledTime': '2019-05-08T11:00:00.000'}, 'airline': {'name': 'Peruvian Airlines', 'iataCode': 'P9', 'icaoCode': 'PVN'}, 'flight': {'number': '411', 'iataNumber': 'P9411', 'icaoNumber': 'PVN411'}}, {'type': 'arrival', 'status': 'scheduled', 'departure': {'iataCode': 'CUZ', 'icaoCode': 'SPZO', 'scheduledTime': '2019-05-08T09:40:00.000'}, 'arrival': {'iataCode': 'LIM', 'icaoCode': 'SPJC', 'scheduledTime': '2019-05-08T11:05:00.000'}, 'airline': {'name': 'Star Peru', 'iataCode': '2I', 'icaoCode': 'SRU'}, 'flight': {'number': '222', 'iataNumber': '2I222', 'icaoNumber': 'SRU222'}, 'codeshared': {'airline': {'name': 'Peruvian Airlines', 'iataCode': 'P9', 'icaoCode': 'PVN'}, 'flight': {'number': '222', 'iataNumber': 'P9222', 'icaoNumber': 'PVN222'}}}, {'type': 'arrival', 'status': 'scheduled', 'departure': {'iataCode': 'CUZ', 'icaoCode': 'SPZO', 'scheduledTime': '2019-05-08T09:40:00.000'}, 'arrival': {'iataCode': 'LIM', 'icaoCode': 'SPJC', 'scheduledTime': '2019-05-08T11:05:00.000'}, 'airline': {'name': 'Peruvian Airlines', 'iataCode': 'P9', 'icaoCode': 'PVN'}, 'flight': {'number': '222', 'iataNumber': 'P9222', 'icaoNumber': 'PVN222'}}, {'type': 'arrival', 'status': 'scheduled', 'departure': {'iataCode': 'CUZ', 'icaoCode': 'SPZO', 'terminal': '1', 'scheduledTime': '2019-05-08T06:42:00.000', 'estimatedTime': '2019-05-08T06:42:00.000'}, 'arrival': {'iataCode': 'LIM', 'icaoCode': 'SPJC', 'scheduledTime': '2019-05-08T09:42:00.000', 'estimatedTime': '2019-05-08T09:42:00.000'}, 'airline': {'name': 'LATAM Airlines', 'iataCode': 'LA', 'icaoCode': 'LAN'}, 'flight': {'number': '2012', 'iataNumber': 'LA2012', 'icaoNumber': 'LAN2012'}, 'codeshared': {'airline': {'name': 'LATAM Airlines Peru', 'iataCode': 'LP', 'icaoCode': 'LPE'}, 'flight': {'number': '2012', 'iataNumber': 'LP2012', 'icaoNumber': 'LPE2012'}}}, {'type': 'arrival', 'status': 'scheduled', 'departure': {'iataCode': 'CUZ', 'icaoCode': 'SPZO', 'terminal': '1', 'scheduledTime': '2019-05-08T09:42:00.000', 'estimatedTime': '2019-05-08T09:42:00.000'}, 'arrival': {'iataCode': 'LIM', 'icaoCode': 'SPJC', 'scheduledTime': '2019-05-08T11:14:00.000', 'estimatedTime': '2019-05-08T11:14:00.000'}, 'airline': {'name': 'LATAM Airlines', 'iataCode': 'LA', 'icaoCode': 'LAN'}, 'flight': {'number': '2012', 'iataNumber': 'LA2012', 'icaoNumber': 'LAN2012'}, 'codeshared': {'airline': {'name': 'LATAM Airlines Peru', 'iataCode': 'LP', 'icaoCode': 'LPE'}, 'flight': {'number': '2012', 'iataNumber': 'LP2012', 'icaoNumber': 'LPE2012'}}}, {'type': 'arrival', 'status': 'scheduled', 'departure': {'iataCode': 'CUZ', 'icaoCode': 'SPZO', 'terminal': '1', 'scheduledTime': '2019-05-08T09:42:00.000', 'estimatedTime': '2019-05-08T09:42:00.000'}, 'arrival': {'iataCode': 'LIM', 'icaoCode': 'SPJC', 'scheduledTime': '2019-05-08T11:14:00.000', 'estimatedTime': '2019-05-08T11:14:00.000'}, 'airline': {'name': 'LATAM Airlines Peru', 'iataCode': 'LP', 'icaoCode': 'LPE'}, 'flight': {'number': '2012', 'iataNumber': 'LP2012', 'icaoNumber': 'LPE2012'}}, {'type': 'arrival', 'status': 'scheduled', 'departure': {'iataCode': 'CUZ', 'icaoCode': 'SPZO', 'scheduledTime': '2019-05-08T09:45:00.000', 'estimatedTime': '2019-05-08T09:45:00.000'}, 'arrival': {'iataCode': 'LIM', 'icaoCode': 'SPJC', 'scheduledTime': '2019-05-08T11:15:00.000', 'estimatedTime': '2019-05-08T11:15:00.000'}, 'airline': {'name': 'Aeromexico', 'iataCode': 'AM', 'icaoCode': 'AMX'}, 'flight': {'number': '8201', 'iataNumber': 'AM8201', 'icaoNumber': 'AMX8201'}, 'codeshared': {'airline': {'name': 'TACA', 'iataCode': 'TA', 'icaoCode': 'TAI'}, 'flight': {'number': '856', 'iataNumber': 'TA856', 'icaoNumber': 'TAI856'}}}, {'type': 'arrival', 'status': 'scheduled', 'departure': {'iataCode': 'CUZ', 'icaoCode': 'SPZO', 'scheduledTime': '2019-05-08T09:45:00.000', 'estimatedTime': '2019-05-08T09:45:00.000'}, 'arrival': {'iataCode': 'LIM', 'icaoCode': 'SPJC', 'scheduledTime': '2019-05-08T11:15:00.000', 'estimatedTime': '2019-05-08T11:15:00.000'}, 'airline': {'name': 'AVIANCA', 'iataCode': 'AV', 'icaoCode': 'AVA'}, 'flight': {'number': '856', 'iataNumber': 'AV856', 'icaoNumber': 'AVA856'}, 'codeshared': {'airline': {'name': 'TACA', 'iataCode': 'TA', 'icaoCode': 'TAI'}, 'flight': {'number': '856', 'iataNumber': 'TA856', 'icaoNumber': 'TAI856'}}}, {'type': 'arrival', 'status': 'scheduled', 'departure': {'iataCode': 'CUZ', 'icaoCode': 'SPZO', 'scheduledTime': '2019-05-08T09:45:00.000', 'estimatedTime': '2019-05-08T09:45:00.000'}, 'arrival': {'iataCode': 'LIM', 'icaoCode': 'SPJC', 'scheduledTime': '2019-05-08T11:15:00.000', 'estimatedTime': '2019-05-08T11:15:00.000'}, 'airline': {'name': 'TACA', 'iataCode': 'TA', 'icaoCode': 'TAI'}, 'flight': {'number': '856', 'iataNumber': 'TA856', 'icaoNumber': 'TAI856'}}]\n",
      "9\n",
      "{'iataCode': 'LIM', 'icaoCode': 'SPJC', 'scheduledTime': '2019-05-08T11:00:00.000'}\n",
      "{'iataCode': 'LIM', 'icaoCode': 'SPJC', 'scheduledTime': '2019-05-08T11:05:00.000'}\n",
      "{'iataCode': 'LIM', 'icaoCode': 'SPJC', 'scheduledTime': '2019-05-08T11:05:00.000'}\n",
      "{'iataCode': 'LIM', 'icaoCode': 'SPJC', 'scheduledTime': '2019-05-08T09:42:00.000', 'estimatedTime': '2019-05-08T09:42:00.000'}\n",
      "{'iataCode': 'LIM', 'icaoCode': 'SPJC', 'scheduledTime': '2019-05-08T11:14:00.000', 'estimatedTime': '2019-05-08T11:14:00.000'}\n",
      "{'iataCode': 'LIM', 'icaoCode': 'SPJC', 'scheduledTime': '2019-05-08T11:14:00.000', 'estimatedTime': '2019-05-08T11:14:00.000'}\n",
      "{'iataCode': 'LIM', 'icaoCode': 'SPJC', 'scheduledTime': '2019-05-08T11:15:00.000', 'estimatedTime': '2019-05-08T11:15:00.000'}\n",
      "{'iataCode': 'LIM', 'icaoCode': 'SPJC', 'scheduledTime': '2019-05-08T11:15:00.000', 'estimatedTime': '2019-05-08T11:15:00.000'}\n",
      "{'iataCode': 'LIM', 'icaoCode': 'SPJC', 'scheduledTime': '2019-05-08T11:15:00.000', 'estimatedTime': '2019-05-08T11:15:00.000'}\n"
     ]
    }
   ],
   "source": [
    "with open('ArrivalLima190508.txt') as json_file:  \n",
    "    data = json.loads(json_file.read().replace(\"\\'\", \"\\\"\"))\n",
    "    print (data)\n",
    "    print(len(data))\n",
    "    for j in data:\n",
    "        print(j['arrival'])"
   ]
  },
  {
   "cell_type": "code",
   "execution_count": 152,
   "metadata": {},
   "outputs": [
    {
     "name": "stdout",
     "output_type": "stream",
     "text": [
      "9\n"
     ]
    }
   ],
   "source": [
    "data_filtered = list(filter(lambda x : x['status'] != 'landed' and x['status'] != 'cancelled', data))\n",
    "print(len(data_filtered))"
   ]
  },
  {
   "cell_type": "code",
   "execution_count": 153,
   "metadata": {},
   "outputs": [
    {
     "name": "stdout",
     "output_type": "stream",
     "text": [
      "2019-05-08 11:00:00  1\n",
      "2019-05-08 11:05:00  2\n",
      "2019-05-08 11:05:00  3\n",
      "2019-05-08 09:42:00  4\n",
      "2019-05-08 11:14:00  5\n",
      "2019-05-08 11:14:00  6\n",
      "2019-05-08 11:15:00  7\n",
      "2019-05-08 11:15:00  8\n",
      "2019-05-08 11:15:00  9\n"
     ]
    }
   ],
   "source": [
    "listaVuelos = []\n",
    "Clases.Vuelo.nVuelo =0\n",
    "i =0\n",
    "for flight in data_filtered:\n",
    "    #print (flight['status'], flight['departure'], flight['arrival'], flight['airline'], flight['flight'])\n",
    "    #try:\n",
    "        i +=1\n",
    "        vuelo = Clases.Vuelo()\n",
    "        jsonDestino = flight ['arrival']\n",
    "        anho = int(jsonDestino['scheduledTime'][0:4])\n",
    "        mes = int(jsonDestino['scheduledTime'][5:7])\n",
    "        dia = int(jsonDestino['scheduledTime'][8:10])\n",
    "        hora = int(jsonDestino['scheduledTime'][11:13])\n",
    "        minuto = int(jsonDestino['scheduledTime'][14:16])\n",
    "        segundo = int(jsonDestino['scheduledTime'][17:19])\n",
    "        vuelo.setTiempoEstimado(datetime(year=anho, month=mes, day=dia, \\\n",
    "                                   hour=hora, minute=minuto, second=segundo))\n",
    "        vuelo.setTiempoLlegada(datetime(year=anho, month=mes, day=dia, \\\n",
    "                                   hour=hora, minute=minuto, second=segundo))\n",
    "        vuelo.setEstado(flight['status'])\n",
    "        if (vuelo.estado==\"active\"):\n",
    "            try:\n",
    "                anho = int(jsonDestino['estimatedTime'][0:4])\n",
    "                mes = int(jsonDestino['estimatedTime'][6:7])\n",
    "                dia = int(jsonDestino['estimatedTime'][9:10])\n",
    "                hora = int(jsonDestino['estimatedTime'][12:13])\n",
    "                minuto = int(jsonDestino['estimatedTime'][15:16])\n",
    "                segundo = int(jsonDestino['estimatedTime'][18:19])\n",
    "                vuelo.setTiempoEstimado(datetime(year=anho, month=mes, day=dia, \\\n",
    "                                           hour=hora, minute=minuto, second=segundo))\n",
    "                vuelo.setTiempoLlegada(datetime(year=anho, month=mes, day=dia, \\\n",
    "                                           hour=hora, minute=minuto, second=segundo))\n",
    "            except:\n",
    "                pass\n",
    "            \n",
    "        jsonVuelo = flight['flight']\n",
    "        vuelo.addNumeroVuelo(jsonVuelo['number'])\n",
    "        vuelo.addIata(jsonVuelo['iataNumber'])\n",
    "\n",
    "        try:\n",
    "            vuelo.addIcao(jsonVuelo['icaoNumber'])\n",
    "        except:\n",
    "            pass\n",
    "\n",
    "        jsonAerolinea = flight['airline']\n",
    "        aerolinea =Clases.TAerolinea()\n",
    "        aerolinea.addIata(jsonAerolinea['iataCode'])\n",
    "        try:\n",
    "            aerolinea.addIcao(jsonAerolinea['icaoCode'])\n",
    "        except:\n",
    "            pass\n",
    "        aerolinea.addNombre(jsonAerolinea['name'])\n",
    "\n",
    "        avion = Clases.Avion()\n",
    "        avion.addTAerolinea(aerolinea)\n",
    "        vuelo.setAvion(avion)\n",
    "\n",
    "        vuelo.asignarIDVuelo()\n",
    "        listaVuelos.append(vuelo)\n",
    "        print (str(vuelo.tiempoEstimado)+ \"  \"+ str(vuelo.idVuelo))\n",
    "    #except:\n",
    "    #    pass"
   ]
  },
  {
   "cell_type": "code",
   "execution_count": 143,
   "metadata": {
    "scrolled": true
   },
   "outputs": [
    {
     "data": {
      "text/plain": [
       "<module 'Metaheuristico' from 'C:\\\\Users\\\\jorge\\\\Documents\\\\Jorge\\\\AlgoRitmoAgogo\\\\AlgoRitmoAgogo\\\\Metaheuristico.py'>"
      ]
     },
     "execution_count": 143,
     "metadata": {},
     "output_type": "execute_result"
    }
   ],
   "source": [
    "importlib.reload(Metaheuristico)"
   ]
  },
  {
   "cell_type": "code",
   "execution_count": 144,
   "metadata": {},
   "outputs": [
    {
     "data": {
      "text/plain": [
       "<module 'Clases' from 'C:\\\\Users\\\\jorge\\\\Documents\\\\Jorge\\\\AlgoRitmoAgogo\\\\AlgoRitmoAgogo\\\\Clases.py'>"
      ]
     },
     "execution_count": 144,
     "metadata": {},
     "output_type": "execute_result"
    }
   ],
   "source": [
    "importlib.reload(Clases)"
   ]
  },
  {
   "cell_type": "code",
   "execution_count": 145,
   "metadata": {},
   "outputs": [],
   "source": [
    "nPuertas = 3 #20\n",
    "nZonas = 2 #52\n",
    "listaZonas = []\n",
    "listaPuertas = []\n",
    "for i in range(1,nPuertas+1):\n",
    "    area2 = Clases.Puerta(2*i,random.random()*79+1, random.random()*59+1,random.random()*499+1,random.random()*499+1,10)\n",
    "    listaPuertas.append(area2)\n",
    "    \n",
    "for i in range(1,nZonas +1):\n",
    "    area = Clases.Zona(2*i-1,random.random()*79+1, random.random()*59+1,random.random()*499+1, random.random()*499+1)\n",
    "    listaZonas.append(area)"
   ]
  },
  {
   "cell_type": "code",
   "execution_count": 146,
   "metadata": {
    "scrolled": true
   },
   "outputs": [
    {
     "name": "stdout",
     "output_type": "stream",
     "text": [
      "2019-05-08 14:05:00 2019-05-08 09:42:00\n",
      "Hora asignada y hora estimada (L) : 9.883333333333333\n",
      "Tiempo sin uso de Puertas (P*U) : 0.0\n",
      "Tiempo sin uso de Zonas (U) 0.0\n",
      "Puertas\n",
      "ID: 2\n",
      "Libre: True | tiempoInicio: 2019-01-01 00:00:00 | tiempoFin: 2019-05-08 10:00:00\n",
      "Libre: False | tiempoInicio: 2019-05-08 10:00:00 | tiempoFin: 2019-05-08 13:00:00 | ID Vuelo: 1\n",
      "Libre: False | tiempoInicio: 2019-05-08 13:00:00 | tiempoFin: 2019-05-08 16:00:00 | ID Vuelo: 7\n",
      "Libre: True | tiempoInicio: 2019-05-08 16:00:00 | tiempoFin: 2020-01-01 00:00:00\n",
      "----------------------\n",
      "ID: 4\n",
      "Libre: True | tiempoInicio: 2019-01-01 00:00:00 | tiempoFin: 2019-05-08 10:05:00\n",
      "Libre: False | tiempoInicio: 2019-05-08 10:05:00 | tiempoFin: 2019-05-08 13:05:00 | ID Vuelo: 2\n",
      "Libre: False | tiempoInicio: 2019-05-08 13:05:00 | tiempoFin: 2019-05-08 16:05:00 | ID Vuelo: 8\n",
      "Libre: True | tiempoInicio: 2019-05-08 16:05:00 | tiempoFin: 2020-01-01 00:00:00\n",
      "----------------------\n",
      "ID: 6\n",
      "Libre: True | tiempoInicio: 2019-01-01 00:00:00 | tiempoFin: 2019-05-08 10:05:00\n",
      "Libre: False | tiempoInicio: 2019-05-08 10:05:00 | tiempoFin: 2019-05-08 13:05:00 | ID Vuelo: 3\n",
      "Libre: False | tiempoInicio: 2019-05-08 13:05:00 | tiempoFin: 2019-05-08 16:05:00 | ID Vuelo: 9\n",
      "Libre: True | tiempoInicio: 2019-05-08 16:05:00 | tiempoFin: 2020-01-01 00:00:00\n",
      "----------------------\n",
      "Zonas:\n",
      "ID: 1\n",
      "Libre: True | tiempoInicio: 2019-01-01 00:00:00 | tiempoFin: 2019-05-08 08:42:00\n",
      "Libre: False | tiempoInicio: 2019-05-08 08:42:00 | tiempoFin: 2019-05-08 11:42:00 | ID Vuelo: 4\n",
      "Libre: False | tiempoInicio: 2019-05-08 11:42:00 | tiempoFin: 2019-05-08 14:42:00 | ID Vuelo: 6\n",
      "Libre: True | tiempoInicio: 2019-05-08 14:42:00 | tiempoFin: 2020-01-01 00:00:00\n",
      "----------------------\n",
      "ID: 3\n",
      "Libre: True | tiempoInicio: 2019-01-01 00:00:00 | tiempoFin: 2019-05-08 10:14:00\n",
      "Libre: False | tiempoInicio: 2019-05-08 10:14:00 | tiempoFin: 2019-05-08 13:14:00 | ID Vuelo: 5\n",
      "Libre: True | tiempoInicio: 2019-05-08 13:14:00 | tiempoFin: 2020-01-01 00:00:00\n",
      "----------------------\n",
      "Resultado: 333968400.0\n"
     ]
    }
   ],
   "source": [
    "ann = Metaheuristico.Annealer(listaVuelos,listaPuertas,listaZonas)"
   ]
  },
  {
   "cell_type": "code",
   "execution_count": 147,
   "metadata": {
    "scrolled": true
   },
   "outputs": [
    {
     "name": "stdout",
     "output_type": "stream",
     "text": [
      "2019-05-08 14:05:00 2019-05-08 09:42:00\n",
      "Hora asignada y hora estimada (L) : 9.883333333333333\n",
      "Tiempo sin uso de Puertas (P*U) : 0.0\n",
      "Tiempo sin uso de Zonas (U) 0.0\n",
      "2019-05-08 14:05:00 2019-05-08 09:42:00\n",
      "Hora asignada y hora estimada (L) : 6.516666666666667\n",
      "Tiempo sin uso de Puertas (P*U) : 0.0\n",
      "Tiempo sin uso de Zonas (U) 0.0\n",
      "Puertas\n",
      "ID: 2\n",
      "Libre: True | tiempoInicio: 2019-01-01 00:00:00 | tiempoFin: 2019-05-08 10:00:00\n",
      "Libre: False | tiempoInicio: 2019-05-08 10:00:00 | tiempoFin: 2019-05-08 13:00:00 | ID Vuelo: 1\n",
      "Libre: False | tiempoInicio: 2019-05-08 13:00:00 | tiempoFin: 2019-05-08 16:00:00 | ID Vuelo: 7\n",
      "Libre: True | tiempoInicio: 2019-05-08 16:00:00 | tiempoFin: 2020-01-01 00:00:00\n",
      "----------------------\n",
      "ID: 4\n",
      "Libre: True | tiempoInicio: 2019-01-01 00:00:00 | tiempoFin: 2019-05-08 10:05:00\n",
      "Libre: False | tiempoInicio: 2019-05-08 10:05:00 | tiempoFin: 2019-05-08 13:05:00 | ID Vuelo: 2\n",
      "Libre: False | tiempoInicio: 2019-05-08 13:05:00 | tiempoFin: 2019-05-08 16:05:00 | ID Vuelo: 8\n",
      "Libre: True | tiempoInicio: 2019-05-08 16:05:00 | tiempoFin: 2020-01-01 00:00:00\n",
      "----------------------\n",
      "ID: 6\n",
      "Libre: True | tiempoInicio: 2019-01-01 00:00:00 | tiempoFin: 2019-05-08 10:05:00\n",
      "Libre: False | tiempoInicio: 2019-05-08 10:05:00 | tiempoFin: 2019-05-08 13:05:00 | ID Vuelo: 3\n",
      "Libre: False | tiempoInicio: 2019-05-08 13:05:00 | tiempoFin: 2019-05-08 16:05:00 | ID Vuelo: 9\n",
      "Libre: True | tiempoInicio: 2019-05-08 16:05:00 | tiempoFin: 2020-01-01 00:00:00\n",
      "----------------------\n",
      "Zonas:\n",
      "ID: 1\n",
      "Libre: True | tiempoInicio: 2019-01-01 00:00:00 | tiempoFin: 2019-05-08 08:42:00\n",
      "Libre: False | tiempoInicio: 2019-05-08 08:42:00 | tiempoFin: 2019-05-08 11:42:00 | ID Vuelo: 4\n",
      "Libre: False | tiempoInicio: 2019-05-08 11:42:00 | tiempoFin: 2019-05-08 14:42:00 | ID Vuelo: 6\n",
      "Libre: True | tiempoInicio: 2019-05-08 14:42:00 | tiempoFin: 2020-01-01 00:00:00\n",
      "----------------------\n",
      "ID: 3\n",
      "Libre: True | tiempoInicio: 2019-01-01 00:00:00 | tiempoFin: 2019-05-08 10:14:00\n",
      "Libre: False | tiempoInicio: 2019-05-08 10:14:00 | tiempoFin: 2019-05-08 13:14:00 | ID Vuelo: 5\n",
      "Libre: True | tiempoInicio: 2019-05-08 13:14:00 | tiempoFin: 2020-01-01 00:00:00\n",
      "----------------------\n",
      "Resultado: 138049200.0\n"
     ]
    }
   ],
   "source": [
    "x,y = ann.anneal()\n",
    "\n",
    "print(\"Puertas\")\n",
    "for i in x[0]:\n",
    "    i.imprimirLista()\n",
    "print(\"Zonas:\")\n",
    "for i in x[1]:\n",
    "    i.imprimirLista()\n",
    "print(\"Resultado: \" + str(y))"
   ]
  }
 ],
 "metadata": {
  "kernelspec": {
   "display_name": "Python 3",
   "language": "python",
   "name": "python3"
  },
  "language_info": {
   "codemirror_mode": {
    "name": "ipython",
    "version": 3
   },
   "file_extension": ".py",
   "mimetype": "text/x-python",
   "name": "python",
   "nbconvert_exporter": "python",
   "pygments_lexer": "ipython3",
   "version": "3.6.4"
  }
 },
 "nbformat": 4,
 "nbformat_minor": 2
}
